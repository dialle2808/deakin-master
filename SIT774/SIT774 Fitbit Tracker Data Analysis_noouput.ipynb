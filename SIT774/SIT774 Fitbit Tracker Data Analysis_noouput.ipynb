{
 "cells": [
  {
   "cell_type": "code",
   "execution_count": null,
   "id": "6f0b382d",
   "metadata": {},
   "outputs": [],
   "source": [
    "# !pip install pandas_profiling\n",
    "!pip install calplot\n",
    "# import the libraries \n",
    "import numpy as np\n",
    "import pandas as pd\n",
    "import os\n",
    "from pandas_profiling import ProfileReport"
   ]
  },
  {
   "cell_type": "markdown",
   "id": "2f355ad8",
   "metadata": {},
   "source": [
    "### 1 Data introduction\n",
    "This data set was downloaded from Kaggle web repository by the following URL: https://www.kaggle.com/datasets/arashnic/fitbit/\n",
    "\n",
    "Data collected from 30 eligible Fitbit users' personal tracker data (with consent). Variation between output represents use of different types of Fitbit trackers and individual tracking behaviors / preferences.\n",
    "\n",
    "\n",
    "In total, there are 18 CSV files with a combining total of 338 MB:\n",
    "\n",
    "* dailyActivity_merged: A comprehensive file containing information about users' activity in different days.\n",
    "* dailyCalories_merged: A file containing the amount of calories burnt for each day.\n",
    "* dailyIntensities_merged: A file detailings the various user's states during the day.\n",
    "* dailySteps_merged: Contains info about the amount of steps taken per day.\n",
    "* heartrate_seconds_merged: Containing the heart rate monitored during differect periods of the day.\n",
    "* hourlyCalories_merged: Describing the amount of calories burnt by hour.\n",
    "* hourlyIntensities_merged: A file with hourly intensities info.\n",
    "* hourlySteps_merged: File recordings the amount of steps taken per hour.\n",
    "* minuteCaloriesNarrow_merged: A file with the overall amount of calories burnt per minute.\n",
    "* minuteCaloriesWide_merged: File with details on WHAT KIND of calories burnt.\n",
    "* minuteMETsNarrow_merged: Data about the Metabolic equivalents of user per minute.\n",
    "* minuteSleep_merged: Unclear.\n",
    "* minuteStepsNarrow_merged: Overall steps per minute.\n",
    "* minuteStepsWide_merged: Details the step for each second of a minute.\n",
    "* sleepDay_merged: Sleeping details for each day.\n",
    "* weightLogInfo_merged: Daily weigh log.\n",
    "\n",
    "Notable/Potential CSV files: dailyACtivity_merged, dailyCalories_merged, dailyIntensities_merged, dailySteps_merged, sleepDay_merged, weightLogInfo_merged. These are the one that stood out with the most relevant information on how we can observe users' behaviors with smart health trackers."
   ]
  },
  {
   "cell_type": "markdown",
   "id": "1dbc9b17",
   "metadata": {},
   "source": [
    "#### Reading the data"
   ]
  },
  {
   "cell_type": "code",
   "execution_count": null,
   "id": "59bd25bd",
   "metadata": {},
   "outputs": [],
   "source": [
    "os.chdir(r\"D:\\Download\\archive (1)\\Fitabase Data 4.12.16-5.12.16\")\n",
    "\n",
    "daily_activities = pd.read_csv(\"dailyActivity_merged.csv\")\n",
    "daily_calories = pd.read_csv(\"dailyCalories_merged.csv\")\n",
    "daily_intensity = pd.read_csv(\"dailyIntensities_merged.csv\")\n",
    "daily_steps = pd.read_csv(\"dailySteps_merged.csv\")\n",
    "seconds_heartrate = pd.read_csv(\"heartrate_seconds_merged.csv\")\n",
    "daily_sleep = pd.read_csv(\"sleepDay_merged.csv\")\n",
    "daily_weight = pd.read_csv(\"weightLogInfo_merged.csv\")\n",
    "minute_METs = pd.read_csv(\"minuteMETsNarrow_merged.csv\")\n"
   ]
  },
  {
   "cell_type": "code",
   "execution_count": null,
   "id": "f9f65710",
   "metadata": {},
   "outputs": [],
   "source": [
    "daily_activities.head()"
   ]
  },
  {
   "cell_type": "code",
   "execution_count": null,
   "id": "06f44047",
   "metadata": {},
   "outputs": [],
   "source": [
    "daily_activities.info()"
   ]
  },
  {
   "cell_type": "code",
   "execution_count": null,
   "id": "7cb5e99a",
   "metadata": {},
   "outputs": [],
   "source": [
    "profile = ProfileReport(daily_activities, title=\"Pandas Profiling Report\")\n",
    "profile.to_notebook_iframe()"
   ]
  },
  {
   "cell_type": "code",
   "execution_count": null,
   "id": "3fbba634",
   "metadata": {},
   "outputs": [],
   "source": [
    "profile = ProfileReport(daily_sleep, title=\"Pandas Profiling Report\")\n",
    "profile.to_notebook_iframe()"
   ]
  },
  {
   "cell_type": "code",
   "execution_count": null,
   "id": "dfe3aac5",
   "metadata": {},
   "outputs": [],
   "source": [
    "profile = ProfileReport(daily_weight, title=\"Pandas Profiling Report\")\n",
    "profile.to_notebook_iframe()"
   ]
  },
  {
   "cell_type": "markdown",
   "id": "5825488c",
   "metadata": {},
   "source": [
    "### Analysis directions\n",
    "\n",
    "Possible questions to be answered:\n",
    "\n",
    "* What do the data sets involve?\n",
    "* Is there any trend on user usage ?\n",
    "* How can the analysis be helpful for Redback Operations?\n"
   ]
  },
  {
   "cell_type": "markdown",
   "id": "1709a213",
   "metadata": {},
   "source": [
    "#### The unique ids of each data frame\n",
    "\n",
    "(1.) daily_activity data available for 2016-04-12 and 2016-05-12 with 33 unique IDs.\n",
    "\n",
    "(2.) hourly_activity data available for 2016-04-12 and 2016-05-12 with with 33 unique Ids.\n",
    "\n",
    "(3.) sleep data available for 2016-04-12 and 2016-05-12 with with 24 unique Ids.\n",
    "\n",
    "(4.) heartrate data available for 2016-04-12 and 2016-05-12 with with 14 unique Ids.\n",
    "\n",
    "(5.) weight_log data available for 2016-04-12 and 2016-05-12 with with 8 unique Ids."
   ]
  },
  {
   "cell_type": "markdown",
   "id": "0389a686",
   "metadata": {},
   "source": [
    "#### Is there any trend in daily usage?\n",
    "\n",
    "Let's first gather few ideas into how users spent their steps at a day level"
   ]
  },
  {
   "cell_type": "code",
   "execution_count": null,
   "id": "9fd891ec",
   "metadata": {},
   "outputs": [],
   "source": [
    "# Get number of users used their devices each day:\n",
    "import calplot\n",
    "\n",
    "obs_users=daily_activities\n",
    "\n",
    "obs_users[\"ActivityDate\"] = pd.to_datetime(obs_users[\"ActivityDate\"])\n",
    "obs_users=daily_activities.groupby([\"ActivityDate\"])[\"Id\"].nunique()\n",
    "\n",
    "pl1 = calplot.calplot(data = obs_users,how = 'sum', cmap = 'Blues', suptitle = \"Number of Users Used Devices by Day\")"
   ]
  },
  {
   "cell_type": "code",
   "execution_count": null,
   "id": "fb9ecbe3",
   "metadata": {},
   "outputs": [],
   "source": [
    "obs_users.value_counts()"
   ]
  },
  {
   "cell_type": "code",
   "execution_count": null,
   "id": "db30566a",
   "metadata": {},
   "outputs": [],
   "source": [
    "obs_users.value_counts(normalize=True)*100"
   ]
  },
  {
   "cell_type": "markdown",
   "id": "7a97c52c",
   "metadata": {},
   "source": [
    "Daily usage at first look:\n",
    "\n",
    "Within an 31 days of data recorded, we can see few information:\n",
    "\n",
    "Of a total of 33 Ids (100%), the number of users who used their devices daily can vary from as little as 3% (21 users) to as many as 45% (32 users) each day. The greatest number of users per day is around 4 times that of the least number of user per day.\n",
    "\n",
    "Participants used their devices more frequently in the first half of the period than days towards the end."
   ]
  },
  {
   "cell_type": "markdown",
   "id": "d183461d",
   "metadata": {},
   "source": [
    "#### Summary of analysis\n",
    "Based on the results of profiler, data seems to be cleaned with no obvious missing values. There is no duplicated row.\n",
    "\n",
    "Unfortunately, the data does not include any information about users who use the device for strength training. While strength training would have been beneficial, analysis would have been preferable. The data does, however, provide information on steps, calories, and total distance, which was used in the analysis stage.\n",
    "\n",
    "Certain expected outcomes and trends were discovered after analyzing the data. It is a foregone conclusion that daily activities such as walking, running, and exercising are beneficial to humans and aid in the burning of calories. This was demonstrated in the total distance vs total steps plot, which illustrated that the more steps and distance moved, the more calories burned.\n",
    "\n",
    "Due to the limited timelines in which the data was collected, there was little information on individual weights. Due to a limited timeframe, a statistical summarization of each ID was generated, which revealed minimal changes in weight.\n",
    "\n",
    "\n",
    "\n",
    "The device for sleep tracking has fewer users than the device for daily activity tracking, according to an analysis of the device. In comparison to daily activity tracking, 9 fewer users use their device for sleep. 50 percent of those users use their device for more than 20 days, 38 percent for 11-20 days, and 38 percent for 10 or fewer days.\n",
    "\n",
    "According to the data, more people are using their devices to track daily activities such as activity levels, steps, distance, and calories. 87.9 percent of users have a high usage rate, 9.1 percent have a moderate usage rate, and 3 percent have a low usage rate.\n"
   ]
  },
  {
   "cell_type": "code",
   "execution_count": null,
   "id": "bce0207a",
   "metadata": {},
   "outputs": [],
   "source": []
  }
 ],
 "metadata": {
  "kernelspec": {
   "display_name": "Python 3",
   "language": "python",
   "name": "python3"
  },
  "language_info": {
   "codemirror_mode": {
    "name": "ipython",
    "version": 3
   },
   "file_extension": ".py",
   "mimetype": "text/x-python",
   "name": "python",
   "nbconvert_exporter": "python",
   "pygments_lexer": "ipython3",
   "version": "3.8.13"
  }
 },
 "nbformat": 4,
 "nbformat_minor": 5
}
